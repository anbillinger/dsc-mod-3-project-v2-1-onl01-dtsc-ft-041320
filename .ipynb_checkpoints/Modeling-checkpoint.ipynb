{
 "cells": [
  {
   "cell_type": "code",
   "execution_count": 87,
   "metadata": {},
   "outputs": [
    {
     "data": {
      "text/html": [
       "<div>\n",
       "<style scoped>\n",
       "    .dataframe tbody tr th:only-of-type {\n",
       "        vertical-align: middle;\n",
       "    }\n",
       "\n",
       "    .dataframe tbody tr th {\n",
       "        vertical-align: top;\n",
       "    }\n",
       "\n",
       "    .dataframe thead th {\n",
       "        text-align: right;\n",
       "    }\n",
       "</style>\n",
       "<table border=\"1\" class=\"dataframe\">\n",
       "  <thead>\n",
       "    <tr style=\"text-align: right;\">\n",
       "      <th></th>\n",
       "      <th>amount_tsh</th>\n",
       "      <th>population</th>\n",
       "      <th>funder_Adb</th>\n",
       "      <th>funder_Adra</th>\n",
       "      <th>funder_Amref</th>\n",
       "      <th>funder_Ces(gmbh)</th>\n",
       "      <th>funder_Danida</th>\n",
       "      <th>funder_Ded</th>\n",
       "      <th>funder_Dh</th>\n",
       "      <th>funder_Dhv</th>\n",
       "      <th>...</th>\n",
       "      <th>source_shallow well</th>\n",
       "      <th>source_spring</th>\n",
       "      <th>waterpoint_type_cattle trough</th>\n",
       "      <th>waterpoint_type_communal standpipe</th>\n",
       "      <th>waterpoint_type_communal standpipe multiple</th>\n",
       "      <th>waterpoint_type_dam</th>\n",
       "      <th>waterpoint_type_hand pump</th>\n",
       "      <th>waterpoint_type_improved spring</th>\n",
       "      <th>waterpoint_type_other</th>\n",
       "      <th>year_since_construct</th>\n",
       "    </tr>\n",
       "  </thead>\n",
       "  <tbody>\n",
       "    <tr>\n",
       "      <td>0</td>\n",
       "      <td>6000.0</td>\n",
       "      <td>109</td>\n",
       "      <td>0</td>\n",
       "      <td>0</td>\n",
       "      <td>0</td>\n",
       "      <td>0</td>\n",
       "      <td>0</td>\n",
       "      <td>0</td>\n",
       "      <td>0</td>\n",
       "      <td>0</td>\n",
       "      <td>...</td>\n",
       "      <td>0</td>\n",
       "      <td>1</td>\n",
       "      <td>0</td>\n",
       "      <td>1</td>\n",
       "      <td>0</td>\n",
       "      <td>0</td>\n",
       "      <td>0</td>\n",
       "      <td>0</td>\n",
       "      <td>0</td>\n",
       "      <td>12</td>\n",
       "    </tr>\n",
       "    <tr>\n",
       "      <td>1</td>\n",
       "      <td>0.0</td>\n",
       "      <td>280</td>\n",
       "      <td>0</td>\n",
       "      <td>0</td>\n",
       "      <td>0</td>\n",
       "      <td>0</td>\n",
       "      <td>0</td>\n",
       "      <td>0</td>\n",
       "      <td>0</td>\n",
       "      <td>0</td>\n",
       "      <td>...</td>\n",
       "      <td>0</td>\n",
       "      <td>0</td>\n",
       "      <td>0</td>\n",
       "      <td>1</td>\n",
       "      <td>0</td>\n",
       "      <td>0</td>\n",
       "      <td>0</td>\n",
       "      <td>0</td>\n",
       "      <td>0</td>\n",
       "      <td>3</td>\n",
       "    </tr>\n",
       "    <tr>\n",
       "      <td>2</td>\n",
       "      <td>25.0</td>\n",
       "      <td>250</td>\n",
       "      <td>0</td>\n",
       "      <td>0</td>\n",
       "      <td>0</td>\n",
       "      <td>0</td>\n",
       "      <td>0</td>\n",
       "      <td>0</td>\n",
       "      <td>0</td>\n",
       "      <td>0</td>\n",
       "      <td>...</td>\n",
       "      <td>0</td>\n",
       "      <td>0</td>\n",
       "      <td>0</td>\n",
       "      <td>0</td>\n",
       "      <td>1</td>\n",
       "      <td>0</td>\n",
       "      <td>0</td>\n",
       "      <td>0</td>\n",
       "      <td>0</td>\n",
       "      <td>4</td>\n",
       "    </tr>\n",
       "    <tr>\n",
       "      <td>3</td>\n",
       "      <td>0.0</td>\n",
       "      <td>58</td>\n",
       "      <td>0</td>\n",
       "      <td>0</td>\n",
       "      <td>0</td>\n",
       "      <td>0</td>\n",
       "      <td>0</td>\n",
       "      <td>0</td>\n",
       "      <td>0</td>\n",
       "      <td>0</td>\n",
       "      <td>...</td>\n",
       "      <td>0</td>\n",
       "      <td>0</td>\n",
       "      <td>0</td>\n",
       "      <td>0</td>\n",
       "      <td>1</td>\n",
       "      <td>0</td>\n",
       "      <td>0</td>\n",
       "      <td>0</td>\n",
       "      <td>0</td>\n",
       "      <td>27</td>\n",
       "    </tr>\n",
       "    <tr>\n",
       "      <td>4</td>\n",
       "      <td>0.0</td>\n",
       "      <td>0</td>\n",
       "      <td>0</td>\n",
       "      <td>0</td>\n",
       "      <td>0</td>\n",
       "      <td>0</td>\n",
       "      <td>0</td>\n",
       "      <td>0</td>\n",
       "      <td>0</td>\n",
       "      <td>0</td>\n",
       "      <td>...</td>\n",
       "      <td>0</td>\n",
       "      <td>0</td>\n",
       "      <td>0</td>\n",
       "      <td>1</td>\n",
       "      <td>0</td>\n",
       "      <td>0</td>\n",
       "      <td>0</td>\n",
       "      <td>0</td>\n",
       "      <td>0</td>\n",
       "      <td>11</td>\n",
       "    </tr>\n",
       "  </tbody>\n",
       "</table>\n",
       "<p>5 rows × 306 columns</p>\n",
       "</div>"
      ],
      "text/plain": [
       "   amount_tsh  population  funder_Adb  funder_Adra  funder_Amref  \\\n",
       "0      6000.0         109           0            0             0   \n",
       "1         0.0         280           0            0             0   \n",
       "2        25.0         250           0            0             0   \n",
       "3         0.0          58           0            0             0   \n",
       "4         0.0           0           0            0             0   \n",
       "\n",
       "   funder_Ces(gmbh)  funder_Danida  funder_Ded  funder_Dh  funder_Dhv  ...  \\\n",
       "0                 0              0           0          0           0  ...   \n",
       "1                 0              0           0          0           0  ...   \n",
       "2                 0              0           0          0           0  ...   \n",
       "3                 0              0           0          0           0  ...   \n",
       "4                 0              0           0          0           0  ...   \n",
       "\n",
       "   source_shallow well  source_spring  waterpoint_type_cattle trough  \\\n",
       "0                    0              1                              0   \n",
       "1                    0              0                              0   \n",
       "2                    0              0                              0   \n",
       "3                    0              0                              0   \n",
       "4                    0              0                              0   \n",
       "\n",
       "   waterpoint_type_communal standpipe  \\\n",
       "0                                   1   \n",
       "1                                   1   \n",
       "2                                   0   \n",
       "3                                   0   \n",
       "4                                   1   \n",
       "\n",
       "   waterpoint_type_communal standpipe multiple  waterpoint_type_dam  \\\n",
       "0                                            0                    0   \n",
       "1                                            0                    0   \n",
       "2                                            1                    0   \n",
       "3                                            1                    0   \n",
       "4                                            0                    0   \n",
       "\n",
       "   waterpoint_type_hand pump  waterpoint_type_improved spring  \\\n",
       "0                          0                                0   \n",
       "1                          0                                0   \n",
       "2                          0                                0   \n",
       "3                          0                                0   \n",
       "4                          0                                0   \n",
       "\n",
       "   waterpoint_type_other  year_since_construct  \n",
       "0                      0                    12  \n",
       "1                      0                     3  \n",
       "2                      0                     4  \n",
       "3                      0                    27  \n",
       "4                      0                    11  \n",
       "\n",
       "[5 rows x 306 columns]"
      ]
     },
     "execution_count": 87,
     "metadata": {},
     "output_type": "execute_result"
    }
   ],
   "source": [
    "import pandas as pd\n",
    "import xgboost as xgb\n",
    "from sklearn.model_selection import train_test_split\n",
    "from sklearn.metrics import accuracy_score\n",
    "import numpy as np\n",
    "import itertools\n",
    "import matplotlib.pyplot as plt\n",
    "%matplotlib inline\n",
    "from sklearn.metrics import confusion_matrix\n",
    "\n",
    "ohe = pd.read_csv('data/ohe.csv')\n",
    "to_drop_feats = ['district','gps','water','wpt','public','ward','permit','subvillage','recorded']\n",
    "to_drop_cols = []\n",
    "for col in ohe.columns:\n",
    "    if col.split('_')[0] in to_drop_feats: to_drop_cols.append(col)\n",
    "ohe.drop(to_drop_cols,axis=1,inplace=True)\n",
    "target = pd.read_csv('data/labels.csv')['translate']\n",
    "ohe.head()"
   ]
  },
  {
   "cell_type": "markdown",
   "metadata": {},
   "source": [
    "X_train,X_test,y_train,y_test = train_test_split(ohe,target,test_size = .75,random_state=13)\n",
    "\n",
    "model = xgb.XGBClassifier()\n",
    "model.fit(X_train,y_train)\n",
    "y_hat_test = model.predict(X_test)\n",
    "accuracy_score(y_test,y_hat_test)"
   ]
  },
  {
   "cell_type": "markdown",
   "metadata": {},
   "source": [
    "- Baseline accuracy for xgb: 74% (small train size, for computation time)\n",
    "- Accuracy artificially inflated because of underpredicting category 1\n",
    "- Need to resample, start with undersampling: accuracy 67%\n",
    "- Hyperparameters-gridsearch\n",
    "- try other methods: random forest, knn (might be too intensive for knn)"
   ]
  },
  {
   "cell_type": "code",
   "execution_count": 89,
   "metadata": {},
   "outputs": [
    {
     "data": {
      "text/plain": [
       "2    4317\n",
       "1    4317\n",
       "0    4317\n",
       "Name: translate, dtype: int64"
      ]
     },
     "execution_count": 89,
     "metadata": {},
     "output_type": "execute_result"
    }
   ],
   "source": [
    "from imblearn.under_sampling import RandomUnderSampler\n",
    "rus = RandomUnderSampler(random_state=13)\n",
    "X_resampled, y_resampled = rus.fit_resample(ohe, target)\n",
    "\n",
    "X_train,X_test,y_train,y_test = train_test_split(X_resampled, y_resampled,test_size = .25,random_state=13)\n",
    "y_resampled.value_counts()"
   ]
  },
  {
   "cell_type": "code",
   "execution_count": 16,
   "metadata": {},
   "outputs": [
    {
     "data": {
      "text/plain": [
       "0.6597138047138047"
      ]
     },
     "execution_count": 16,
     "metadata": {},
     "output_type": "execute_result"
    }
   ],
   "source": [
    "X_train,X_test,y_train,y_test = train_test_split(X_resampled, y_resampled,test_size = .25,random_state=13)\n",
    "\n",
    "model = xgb.XGBClassifier()\n",
    "model.fit(X_train,y_train)\n",
    "y_hat_all = model.predict(ohe)\n",
    "accuracy_score(target,y_hat_all)"
   ]
  },
  {
   "cell_type": "markdown",
   "metadata": {},
   "source": [
    "### Questions\n",
    "- where are the ones in need of repairs/replacing? Make predictions, make a map\n",
    "- What physical features have greatest impact? IE water quality, altitude, water source\n",
    "- What controlled features have greatest impact? IE funder, installer, payment type\n",
    "- What impact do features have on other features? IE does funder affect payment type, or installer affect water source?"
   ]
  },
  {
   "cell_type": "code",
   "execution_count": 13,
   "metadata": {},
   "outputs": [
    {
     "name": "stdout",
     "output_type": "stream",
     "text": [
      "[[37.6  12.45  4.26]\n",
      " [ 1.62  5.04  0.6 ]\n",
      " [ 9.13  6.24 23.05]]\n"
     ]
    },
    {
     "data": {
      "image/png": "[encoded data removed]",
      "text/plain": [
       "<Figure size 432x288 with 2 Axes>"
      ]
     },
     "metadata": {
      "needs_background": "light"
     },
     "output_type": "display_data"
    }
   ],
   "source": [
    "from cf_matrix_plot import plot_confusion_matrix\n",
    "cnf = confusion_matrix(target,y_hat_all)\n",
    "plot_confusion_matrix(cnf,['func','rep','non'],normalize=True)"
   ]
  },
  {
   "cell_type": "code",
   "execution_count": 33,
   "metadata": {},
   "outputs": [
    {
     "data": {
      "text/plain": [
       "0.691060606060606"
      ]
     },
     "execution_count": 33,
     "metadata": {},
     "output_type": "execute_result"
    }
   ],
   "source": [
    "from sklearn.tree import DecisionTreeClassifier \n",
    "dtc = DecisionTreeClassifier()\n",
    "dtc.fit(X_train,y_train)\n",
    "y_hat_all = dtc.predict(ohe)\n",
    "accuracy_score(target,y_hat_all)"
   ]
  },
  {
   "cell_type": "code",
   "execution_count": 61,
   "metadata": {},
   "outputs": [],
   "source": [
    "bag = {}\n",
    "for col in ohe.columns:\n",
    "    frst_word = col.split('_')[0]\n",
    "    if frst_word not in bag.keys(): bag[frst_word]=[]\n",
    "    bag[frst_word].append(col)"
   ]
  },
  {
   "cell_type": "code",
   "execution_count": 53,
   "metadata": {},
   "outputs": [],
   "source": [
    "accs = []\n",
    "accs_train = []\n",
    "accs_test = []\n",
    "for feature in bag.keys():\n",
    "    lst = bag[feature]\n",
    "    rf = RandomForestClassifier()\n",
    "    rf.fit(X_train[lst],y_train)\n",
    "    y_hat_all = rf.predict(ohe[lst])\n",
    "    acc = accuracy_score(target,y_hat_all)\n",
    "    accs.append(acc)\n",
    "    y_hat_train = rf.predict(X_train[lst])\n",
    "    acc_tr = accuracy_score(y_train,y_hat_train)\n",
    "    accs_train.append(acc_tr)\n",
    "    y_hat_test = rf.predict(X_test[lst])\n",
    "    acc_ts = accuracy_score(y_test,y_hat_test)\n",
    "    accs_test.append(acc_ts)"
   ]
  },
  {
   "cell_type": "code",
   "execution_count": 62,
   "metadata": {},
   "outputs": [
    {
     "data": {
      "text/html": [
       "<div>\n",
       "<style scoped>\n",
       "    .dataframe tbody tr th:only-of-type {\n",
       "        vertical-align: middle;\n",
       "    }\n",
       "\n",
       "    .dataframe tbody tr th {\n",
       "        vertical-align: top;\n",
       "    }\n",
       "\n",
       "    .dataframe thead th {\n",
       "        text-align: right;\n",
       "    }\n",
       "</style>\n",
       "<table border=\"1\" class=\"dataframe\">\n",
       "  <thead>\n",
       "    <tr style=\"text-align: right;\">\n",
       "      <th></th>\n",
       "      <th>feature</th>\n",
       "      <th>accuracy</th>\n",
       "      <th>train accuracy</th>\n",
       "      <th>test accuracy</th>\n",
       "      <th>x</th>\n",
       "    </tr>\n",
       "  </thead>\n",
       "  <tbody>\n",
       "    <tr>\n",
       "      <td>12</td>\n",
       "      <td>lga</td>\n",
       "      <td>0.466633</td>\n",
       "      <td>0.536909</td>\n",
       "      <td>0.528413</td>\n",
       "      <td>125</td>\n",
       "    </tr>\n",
       "    <tr>\n",
       "      <td>20</td>\n",
       "      <td>quantity</td>\n",
       "      <td>0.507205</td>\n",
       "      <td>0.455266</td>\n",
       "      <td>0.481779</td>\n",
       "      <td>4</td>\n",
       "    </tr>\n",
       "    <tr>\n",
       "      <td>16</td>\n",
       "      <td>extraction</td>\n",
       "      <td>0.386263</td>\n",
       "      <td>0.462782</td>\n",
       "      <td>0.473132</td>\n",
       "      <td>13</td>\n",
       "    </tr>\n",
       "    <tr>\n",
       "      <td>10</td>\n",
       "      <td>region</td>\n",
       "      <td>0.404916</td>\n",
       "      <td>0.461855</td>\n",
       "      <td>0.46572</td>\n",
       "      <td>21</td>\n",
       "    </tr>\n",
       "    <tr>\n",
       "      <td>5</td>\n",
       "      <td>funder</td>\n",
       "      <td>0.514158</td>\n",
       "      <td>0.439102</td>\n",
       "      <td>0.447807</td>\n",
       "      <td>44</td>\n",
       "    </tr>\n",
       "    <tr>\n",
       "      <td>21</td>\n",
       "      <td>source</td>\n",
       "      <td>0.442626</td>\n",
       "      <td>0.432204</td>\n",
       "      <td>0.438851</td>\n",
       "      <td>9</td>\n",
       "    </tr>\n",
       "    <tr>\n",
       "      <td>22</td>\n",
       "      <td>waterpoint</td>\n",
       "      <td>0.582508</td>\n",
       "      <td>0.428807</td>\n",
       "      <td>0.433601</td>\n",
       "      <td>7</td>\n",
       "    </tr>\n",
       "    <tr>\n",
       "      <td>8</td>\n",
       "      <td>basin</td>\n",
       "      <td>0.426364</td>\n",
       "      <td>0.413466</td>\n",
       "      <td>0.425571</td>\n",
       "      <td>9</td>\n",
       "    </tr>\n",
       "    <tr>\n",
       "      <td>6</td>\n",
       "      <td>installer</td>\n",
       "      <td>0.334933</td>\n",
       "      <td>0.415526</td>\n",
       "      <td>0.424027</td>\n",
       "      <td>39</td>\n",
       "    </tr>\n",
       "    <tr>\n",
       "      <td>2</td>\n",
       "      <td>population</td>\n",
       "      <td>0.336515</td>\n",
       "      <td>0.437867</td>\n",
       "      <td>0.42341</td>\n",
       "      <td>1</td>\n",
       "    </tr>\n",
       "    <tr>\n",
       "      <td>18</td>\n",
       "      <td>payment</td>\n",
       "      <td>0.480859</td>\n",
       "      <td>0.434366</td>\n",
       "      <td>0.420939</td>\n",
       "      <td>6</td>\n",
       "    </tr>\n",
       "    <tr>\n",
       "      <td>23</td>\n",
       "      <td>year</td>\n",
       "      <td>0.36569</td>\n",
       "      <td>0.427159</td>\n",
       "      <td>0.42063</td>\n",
       "      <td>1</td>\n",
       "    </tr>\n",
       "    <tr>\n",
       "      <td>15</td>\n",
       "      <td>scheme</td>\n",
       "      <td>0.382037</td>\n",
       "      <td>0.413878</td>\n",
       "      <td>0.415689</td>\n",
       "      <td>11</td>\n",
       "    </tr>\n",
       "    <tr>\n",
       "      <td>0</td>\n",
       "      <td>amount</td>\n",
       "      <td>0.504512</td>\n",
       "      <td>0.427262</td>\n",
       "      <td>0.409821</td>\n",
       "      <td>1</td>\n",
       "    </tr>\n",
       "    <tr>\n",
       "      <td>17</td>\n",
       "      <td>management</td>\n",
       "      <td>0.425404</td>\n",
       "      <td>0.395038</td>\n",
       "      <td>0.400247</td>\n",
       "      <td>15</td>\n",
       "    </tr>\n",
       "    <tr>\n",
       "      <td>11</td>\n",
       "      <td>district</td>\n",
       "      <td>0.361785</td>\n",
       "      <td>0.403068</td>\n",
       "      <td>0.392835</td>\n",
       "      <td>20</td>\n",
       "    </tr>\n",
       "    <tr>\n",
       "      <td>1</td>\n",
       "      <td>gps</td>\n",
       "      <td>0.303013</td>\n",
       "      <td>0.527129</td>\n",
       "      <td>0.380173</td>\n",
       "      <td>1</td>\n",
       "    </tr>\n",
       "    <tr>\n",
       "      <td>19</td>\n",
       "      <td>water</td>\n",
       "      <td>0.143552</td>\n",
       "      <td>0.377432</td>\n",
       "      <td>0.37832</td>\n",
       "      <td>7</td>\n",
       "    </tr>\n",
       "    <tr>\n",
       "      <td>7</td>\n",
       "      <td>wpt</td>\n",
       "      <td>0.529899</td>\n",
       "      <td>0.34356</td>\n",
       "      <td>0.347437</td>\n",
       "      <td>10</td>\n",
       "    </tr>\n",
       "    <tr>\n",
       "      <td>3</td>\n",
       "      <td>public</td>\n",
       "      <td>0.547576</td>\n",
       "      <td>0.346958</td>\n",
       "      <td>0.343731</td>\n",
       "      <td>1</td>\n",
       "    </tr>\n",
       "    <tr>\n",
       "      <td>13</td>\n",
       "      <td>ward</td>\n",
       "      <td>0.409983</td>\n",
       "      <td>0.355812</td>\n",
       "      <td>0.340642</td>\n",
       "      <td>15</td>\n",
       "    </tr>\n",
       "    <tr>\n",
       "      <td>4</td>\n",
       "      <td>permit</td>\n",
       "      <td>0.510791</td>\n",
       "      <td>0.350561</td>\n",
       "      <td>0.339716</td>\n",
       "      <td>1</td>\n",
       "    </tr>\n",
       "    <tr>\n",
       "      <td>9</td>\n",
       "      <td>subvillage</td>\n",
       "      <td>0.383535</td>\n",
       "      <td>0.340883</td>\n",
       "      <td>0.322421</td>\n",
       "      <td>11</td>\n",
       "    </tr>\n",
       "    <tr>\n",
       "      <td>14</td>\n",
       "      <td>recorded</td>\n",
       "      <td>0.384242</td>\n",
       "      <td>0.337177</td>\n",
       "      <td>0.321804</td>\n",
       "      <td>1</td>\n",
       "    </tr>\n",
       "  </tbody>\n",
       "</table>\n",
       "</div>"
      ],
      "text/plain": [
       "       feature  accuracy train accuracy test accuracy    x\n",
       "12         lga  0.466633       0.536909      0.528413  125\n",
       "20    quantity  0.507205       0.455266      0.481779    4\n",
       "16  extraction  0.386263       0.462782      0.473132   13\n",
       "10      region  0.404916       0.461855       0.46572   21\n",
       "5       funder  0.514158       0.439102      0.447807   44\n",
       "21      source  0.442626       0.432204      0.438851    9\n",
       "22  waterpoint  0.582508       0.428807      0.433601    7\n",
       "8        basin  0.426364       0.413466      0.425571    9\n",
       "6    installer  0.334933       0.415526      0.424027   39\n",
       "2   population  0.336515       0.437867       0.42341    1\n",
       "18     payment  0.480859       0.434366      0.420939    6\n",
       "23        year   0.36569       0.427159       0.42063    1\n",
       "15      scheme  0.382037       0.413878      0.415689   11\n",
       "0       amount  0.504512       0.427262      0.409821    1\n",
       "17  management  0.425404       0.395038      0.400247   15\n",
       "11    district  0.361785       0.403068      0.392835   20\n",
       "1          gps  0.303013       0.527129      0.380173    1\n",
       "19       water  0.143552       0.377432       0.37832    7\n",
       "7          wpt  0.529899        0.34356      0.347437   10\n",
       "3       public  0.547576       0.346958      0.343731    1\n",
       "13        ward  0.409983       0.355812      0.340642   15\n",
       "4       permit  0.510791       0.350561      0.339716    1\n",
       "9   subvillage  0.383535       0.340883      0.322421   11\n",
       "14    recorded  0.384242       0.337177      0.321804    1"
      ]
     },
     "execution_count": 62,
     "metadata": {},
     "output_type": "execute_result"
    }
   ],
   "source": [
    "lens = [len(x) for x in list(bag.values())]\n",
    "important = pd.DataFrame([list(bag.keys()),accs,accs_train,accs_test,lens]).transpose()\n",
    "important.columns = ['feature','accuracy','train accuracy','test accuracy','x']\n",
    "important.sort_values('test accuracy',ascending=False)"
   ]
  },
  {
   "cell_type": "code",
   "execution_count": null,
   "metadata": {},
   "outputs": [],
   "source": [
    "to_drop = ['district','gps','water','wpt','public','ward','permit','subvillage','recorded']"
   ]
  },
  {
   "cell_type": "code",
   "execution_count": 108,
   "metadata": {},
   "outputs": [
    {
     "data": {
      "text/plain": [
       "<matplotlib.legend.Legend at 0x13200861e10>"
      ]
     },
     "execution_count": 108,
     "metadata": {},
     "output_type": "execute_result"
    },
    {
     "data": {
      "image/png": "[encoded data removed]",
      "text/plain": [
       "<Figure size 432x360 with 1 Axes>"
      ]
     },
     "metadata": {
      "needs_background": "light"
     },
     "output_type": "display_data"
    }
   ],
   "source": [
    "plt.figure(figsize=(6,5))\n",
    "temp = important.sort_values('test accuracy',ascending=False)[:15]\n",
    "plt.bar(temp['feature'],temp['test accuracy'],color='blue',alpha=.5,align='edge',width=-.4,label='Test Set Accuracy')\n",
    "plt.bar(temp['feature'],temp['accuracy'],color='red',alpha=.5,width=.4,label='Accuracy Across All Data')\n",
    "font = {'size': 10}\n",
    "plt.title('Accuracy of Individual Features',font)\n",
    "plt.xlabel('Feature',fontdict=font)\n",
    "plt.ylabel('Status Group',font)\n",
    "plt.ylim([.3,.6])\n",
    "plt.xticks(rotation=45)\n",
    "plt.legend()"
   ]
  },
  {
   "cell_type": "markdown",
   "metadata": {},
   "source": [
    "Keep best 15 features, drop rest"
   ]
  },
  {
   "cell_type": "code",
   "execution_count": null,
   "metadata": {},
   "outputs": [],
   "source": []
  },
  {
   "cell_type": "code",
   "execution_count": 90,
   "metadata": {},
   "outputs": [
    {
     "data": {
      "text/plain": [
       "0.7157070707070707"
      ]
     },
     "execution_count": 90,
     "metadata": {},
     "output_type": "execute_result"
    }
   ],
   "source": [
    "from sklearn.ensemble import RandomForestClassifier \n",
    "rf = RandomForestClassifier()\n",
    "rf.fit(X_train,y_train)\n",
    "y_hat_all = rf.predict(ohe)\n",
    "accuracy_score(target,y_hat_all)"
   ]
  },
  {
   "cell_type": "code",
   "execution_count": 91,
   "metadata": {},
   "outputs": [
    {
     "data": {
      "text/plain": [
       "0.9331823329558324"
      ]
     },
     "execution_count": 91,
     "metadata": {},
     "output_type": "execute_result"
    }
   ],
   "source": [
    "y_hat_train = rf.predict(X_train)\n",
    "accuracy_score(y_train,y_hat_train)"
   ]
  },
  {
   "cell_type": "code",
   "execution_count": 49,
   "metadata": {},
   "outputs": [
    {
     "name": "stdout",
     "output_type": "stream",
     "text": [
      "0.6809024493328235\n"
     ]
    }
   ],
   "source": [
    "#cnf1 = confusion_matrix(target,rf.predict(ohe))\n",
    "right = 0\n",
    "cm = cnf1-cnf2\n",
    "total = sum(sum(cm))\n",
    "for diag in range(len(cm)):\n",
    "    right += cm[diag,diag]\n",
    "print(right/total)"
   ]
  },
  {
   "cell_type": "code",
   "execution_count": 92,
   "metadata": {},
   "outputs": [
    {
     "name": "stdout",
     "output_type": "stream",
     "text": [
      "[[21537  6586  4136]\n",
      " [  290  3860   167]\n",
      " [ 3240  2468 17116]]\n"
     ]
    },
    {
     "data": {
      "image/png": "[encoded data removed]",
      "text/plain": [
       "<Figure size 432x288 with 2 Axes>"
      ]
     },
     "metadata": {
      "needs_background": "light"
     },
     "output_type": "display_data"
    }
   ],
   "source": [
    "from cf_matrix_plot import plot_confusion_matrix\n",
    "cnf1 = confusion_matrix(target,rf.predict(ohe))\n",
    "# cnf2 = confusion_matrix(y_train,rf.predict(X_train))\n",
    "plot_confusion_matrix(cnf1,['func','rep','non'])"
   ]
  },
  {
   "cell_type": "code",
   "execution_count": 93,
   "metadata": {},
   "outputs": [
    {
     "name": "stdout",
     "output_type": "stream",
     "text": [
      "[[18619  6366  4054]\n",
      " [  198   784   117]\n",
      " [ 3136  2367 14046]]\n"
     ]
    },
    {
     "data": {
      "image/png": "[encoded data removed]",
      "text/plain": [
       "<Figure size 432x288 with 2 Axes>"
      ]
     },
     "metadata": {
      "needs_background": "light"
     },
     "output_type": "display_data"
    }
   ],
   "source": [
    "from cf_matrix_plot import plot_confusion_matrix\n",
    "cnf1 = confusion_matrix(target,rf.predict(ohe))\n",
    "cnf2 = confusion_matrix(y_train,rf.predict(X_train))\n",
    "plot_confusion_matrix(cnf1-cnf2,['func','rep','non'])"
   ]
  },
  {
   "cell_type": "code",
   "execution_count": null,
   "metadata": {},
   "outputs": [],
   "source": []
  }
 ],
 "metadata": {
  "kernelspec": {
   "display_name": "Python [conda env:learn-env] *",
   "language": "python",
   "name": "conda-env-learn-env-py"
  },
  "language_info": {
   "codemirror_mode": {
    "name": "ipython",
    "version": 3
   },
   "file_extension": ".py",
   "mimetype": "text/x-python",
   "name": "python",
   "nbconvert_exporter": "python",
   "pygments_lexer": "ipython3",
   "version": "3.6.9"
  }
 },
 "nbformat": 4,
 "nbformat_minor": 2
}
